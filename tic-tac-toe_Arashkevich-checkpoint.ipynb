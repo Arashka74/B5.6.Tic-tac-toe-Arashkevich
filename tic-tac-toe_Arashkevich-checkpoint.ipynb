{
 "cells": [
  {
   "cell_type": "code",
   "execution_count": 176,
   "id": "805243a6",
   "metadata": {},
   "outputs": [
    {
     "name": "stdout",
     "output_type": "stream",
     "text": [
      "[[' -', ' -', ' -'], [' -', ' -', ' -'], [' -', ' -', ' -']]\n"
     ]
    }
   ],
   "source": [
    "field=[[' -']*3 for _ in range(3)]\n",
    "print(field)\n"
   ]
  },
  {
   "cell_type": "code",
   "execution_count": 177,
   "id": "0b31e061",
   "metadata": {},
   "outputs": [
    {
     "name": "stdout",
     "output_type": "stream",
     "text": [
      "[' -', ' -', ' -'] [' -', ' -', ' -'] [' -', ' -', ' -']\n"
     ]
    }
   ],
   "source": [
    "print(*field)"
   ]
  },
  {
   "cell_type": "code",
   "execution_count": 178,
   "id": "be3c4bd1",
   "metadata": {},
   "outputs": [
    {
     "name": "stdout",
     "output_type": "stream",
     "text": [
      " -  -  -\n",
      " -  -  -\n",
      " -  -  -\n"
     ]
    }
   ],
   "source": [
    "for i in range(len(field)):\n",
    "    print(*field[i])"
   ]
  },
  {
   "cell_type": "code",
   "execution_count": 179,
   "id": "6ab9f6c1",
   "metadata": {},
   "outputs": [
    {
     "name": "stdout",
     "output_type": "stream",
     "text": [
      "   0  1  2\n",
      "0  -  -  -\n",
      "1  -  -  -\n",
      "2  -  -  -\n"
     ]
    }
   ],
   "source": [
    "print('   0  1  2')\n",
    "for i in range(len(field)):\n",
    "    print(str(i),*field[i])"
   ]
  },
  {
   "cell_type": "code",
   "execution_count": 180,
   "id": "686d432d",
   "metadata": {},
   "outputs": [
    {
     "name": "stdout",
     "output_type": "stream",
     "text": [
      "   0  1  2\n",
      "0  -  -  -\n",
      "1  -  -  -\n",
      "2  -  -  -\n"
     ]
    }
   ],
   "source": [
    "def show_field(f):\n",
    "    print('   0  1  2')\n",
    "    for i in range(len(field)):\n",
    "        print(str(i),*field[i])\n",
    "show_field(field)"
   ]
  },
  {
   "cell_type": "code",
   "execution_count": 181,
   "id": "268811a6",
   "metadata": {},
   "outputs": [
    {
     "name": "stdout",
     "output_type": "stream",
     "text": [
      "Введите координаты: 0 0\n"
     ]
    },
    {
     "data": {
      "text/plain": [
       "(0, 0)"
      ]
     },
     "execution_count": 181,
     "metadata": {},
     "output_type": "execute_result"
    }
   ],
   "source": [
    "def users_input(f):\n",
    "    while True:\n",
    "        place=input('Введите координаты: ').split()\n",
    "        if len(place)!=2:\n",
    "            print('Введите 2 координаты: ')\n",
    "            continue\n",
    "        if not(place[0].isdigit() and place[1].isdigit()):\n",
    "            print('Введите числа ')\n",
    "            continue\n",
    "        x,y=map(int,place)\n",
    "        if not(x>=0 and x<3 and y>=0 and y<3):\n",
    "            print('Вышли из диапазона')\n",
    "            continue\n",
    "        if f[x][y]!=' -':\n",
    "            print('Клетка занята')\n",
    "            continue\n",
    "        break\n",
    "    return x,y\n",
    "users_input(field)"
   ]
  },
  {
   "cell_type": "code",
   "execution_count": 182,
   "id": "e6849449",
   "metadata": {},
   "outputs": [
    {
     "name": "stdout",
     "output_type": "stream",
     "text": [
      "   0  1  2\n",
      "0  -  -  -\n",
      "1  -  -  -\n",
      "2  -  -  -\n",
      "Введите координаты: 0 0 \n",
      "   0  1  2\n",
      "0 X  -  -\n",
      "1  -  -  -\n",
      "2  -  -  -\n",
      "Введите координаты: 0 1\n",
      "   0  1  2\n",
      "0 X O  -\n",
      "1  -  -  -\n",
      "2  -  -  -\n",
      "Введите координаты: 0 2\n",
      "   0  1  2\n",
      "0 X O X\n",
      "1  -  -  -\n",
      "2  -  -  -\n",
      "Введите координаты: 1 0\n",
      "   0  1  2\n",
      "0 X O X\n",
      "1 O  -  -\n",
      "2  -  -  -\n",
      "Введите координаты: 1 1\n",
      "   0  1  2\n",
      "0 X O X\n",
      "1 O X  -\n",
      "2  -  -  -\n",
      "Введите координаты: 1 2\n",
      "   0  1  2\n",
      "0 X O X\n",
      "1 O X O\n",
      "2  -  -  -\n",
      "Введите координаты: 2 0\n",
      "   0  1  2\n",
      "0 X O X\n",
      "1 O X O\n",
      "2 X  -  -\n",
      "Введите координаты: 2 1\n",
      "   0  1  2\n",
      "0 X O X\n",
      "1 O X O\n",
      "2 X O  -\n",
      "Введите координаты: 2 2\n",
      "Ничья\n"
     ]
    }
   ],
   "source": [
    "field=[[' -']*3 for _ in range(3)]\n",
    "count=0\n",
    "while True:\n",
    "    if count==9:\n",
    "        print('Ничья')\n",
    "        break\n",
    "    if count%2==0:\n",
    "        user='X'\n",
    "    else:\n",
    "        user=\"O\"\n",
    "    show_field(field)\n",
    "    x,y=users_input(field)\n",
    "    field[x][y]=user\n",
    "    count+=1\n",
    "   "
   ]
  },
  {
   "cell_type": "code",
   "execution_count": 183,
   "id": "478b34c6",
   "metadata": {},
   "outputs": [],
   "source": [
    "def win_v1(f, user):\n",
    "    def check_line(a1,a2,a3,user):\n",
    "        if a1==user and a2==user and a3==user:\n",
    "            return True\n",
    "        for n in range(3):\n",
    "            if check_line(f[n][0], f[n][1], f[n][2], user) or check_line(f[0][n], f[1][n], f[2][n], user) or check_line(f[0][0], f[1][1], f[2][2], user) or \\\n",
    "            check_line(f[2][0], f[1][1], f[0][2], user):\n",
    "                return True\n",
    "        return False\n",
    "win_v1(field,user)\n",
    "\n",
    "    \n",
    "                       \n",
    "            \n",
    "            \n",
    "        \n",
    "\n"
   ]
  },
  {
   "cell_type": "code",
   "execution_count": 184,
   "id": "08991b63",
   "metadata": {},
   "outputs": [
    {
     "name": "stdout",
     "output_type": "stream",
     "text": [
      "   0  1  2\n",
      "0  -  -  -\n",
      "1  -  -  -\n",
      "2  -  -  -\n",
      "Введите координаты: 0 0\n",
      "   0  1  2\n",
      "0 X  -  -\n",
      "1  -  -  -\n",
      "2  -  -  -\n",
      "Введите координаты: 0 1\n",
      "   0  1  2\n",
      "0 X O  -\n",
      "1  -  -  -\n",
      "2  -  -  -\n",
      "Введите координаты: 1 0\n",
      "   0  1  2\n",
      "0 X O  -\n",
      "1 X  -  -\n",
      "2  -  -  -\n",
      "Введите координаты: 1 1\n",
      "   0  1  2\n",
      "0 X O  -\n",
      "1 X O  -\n",
      "2  -  -  -\n",
      "Введите координаты: 2 0\n",
      "   0  1  2\n",
      "0 X O  -\n",
      "1 X O  -\n",
      "2 X  -  -\n",
      "Введите координаты: 2 1\n",
      "   0  1  2\n",
      "0 X O  -\n",
      "1 X O  -\n",
      "2 X O  -\n",
      "Введите координаты: 0 2\n",
      "   0  1  2\n",
      "0 X O X\n",
      "1 X O  -\n",
      "2 X O  -\n",
      "Введите координаты: 1 2\n",
      "   0  1  2\n",
      "0 X O X\n",
      "1 X O O\n",
      "2 X O  -\n",
      "Введите координаты: 2 2\n",
      "Ничья\n"
     ]
    }
   ],
   "source": [
    "field=[[' -']*3 for _ in range(3)]\n",
    "count=0\n",
    "while True:\n",
    "    if count==9:\n",
    "        print('Ничья')\n",
    "        break\n",
    "    if count%2==0:\n",
    "        user='X'\n",
    "    else:\n",
    "        user=\"O\"\n",
    "    show_field(field)\n",
    "    x,y=users_input(field)\n",
    "    field[x][y]=user\n",
    "    if win_v1(field, user):\n",
    "        print(f\"Выиграл {user}\")\n",
    "        break\n",
    "    count+=1"
   ]
  },
  {
   "cell_type": "code",
   "execution_count": 185,
   "id": "c9b96c31",
   "metadata": {},
   "outputs": [
    {
     "data": {
      "text/plain": [
       "True"
      ]
     },
     "execution_count": 185,
     "metadata": {},
     "output_type": "execute_result"
    }
   ],
   "source": [
    "def win_v2(f, user):\n",
    "    win_cord = (((0, 0), (0, 1), (0, 2)), ((1, 0), (1, 1), (1, 2)), ((2, 0), (2, 1), (2, 2)), \n",
    "                ((0, 2), (1, 1), (2, 0)), ((0, 0), (1, 1), (2, 2)), ((0, 0), (1, 0), (2, 0)),\n",
    "                ((0, 1), (1, 1), (2, 1)), ((0, 2), (1, 2), (2, 2)))\n",
    "    for cord in win_cord:\n",
    "        symbols=[]\n",
    "        for c in cord:\n",
    "            symbols.append(f[c[0]][c[1]])\n",
    "        if symbols == [user, user, user]:\n",
    "            return True\n",
    "    return False\n",
    "win_v2(field, user)\n"
   ]
  },
  {
   "cell_type": "code",
   "execution_count": 187,
   "id": "57d5ef68",
   "metadata": {},
   "outputs": [
    {
     "name": "stdout",
     "output_type": "stream",
     "text": [
      "   0  1  2\n",
      "0  -  -  -\n",
      "1  -  -  -\n",
      "2  -  -  -\n",
      "Введите координаты: 0 0\n",
      "   0  1  2\n",
      "0 X  -  -\n",
      "1  -  -  -\n",
      "2  -  -  -\n",
      "Введите координаты: 0 1\n",
      "   0  1  2\n",
      "0 X O  -\n",
      "1  -  -  -\n",
      "2  -  -  -\n",
      "Введите координаты: 1 0\n",
      "   0  1  2\n",
      "0 X O  -\n",
      "1 X  -  -\n",
      "2  -  -  -\n",
      "Введите координаты: 1 1\n",
      "   0  1  2\n",
      "0 X O  -\n",
      "1 X O  -\n",
      "2  -  -  -\n",
      "Введите координаты: 2 0\n",
      "Выиграл X\n",
      "   0  1  2\n",
      "0 X O  -\n",
      "1 X O  -\n",
      "2 X  -  -\n"
     ]
    }
   ],
   "source": [
    "field=[[' -']*3 for _ in range(3)]\n",
    "count=0\n",
    "while True:\n",
    "    if count==9:\n",
    "        print('Ничья')\n",
    "        break\n",
    "    if count%2==0:\n",
    "        user='X'\n",
    "    else:\n",
    "        user=\"O\"\n",
    "    show_field(field)\n",
    "    x,y=users_input(field)\n",
    "    field[x][y]=user\n",
    "    if win_v2(field, user):\n",
    "        print(f\"Выиграл {user}\")\n",
    "        show_field(field)\n",
    "        break\n",
    "    count+=1"
   ]
  },
  {
   "cell_type": "code",
   "execution_count": null,
   "id": "8065b3cc",
   "metadata": {},
   "outputs": [],
   "source": []
  }
 ],
 "metadata": {
  "kernelspec": {
   "display_name": "Python 3 (ipykernel)",
   "language": "python",
   "name": "python3"
  },
  "language_info": {
   "codemirror_mode": {
    "name": "ipython",
    "version": 3
   },
   "file_extension": ".py",
   "mimetype": "text/x-python",
   "name": "python",
   "nbconvert_exporter": "python",
   "pygments_lexer": "ipython3",
   "version": "3.9.12"
  }
 },
 "nbformat": 4,
 "nbformat_minor": 5
}
